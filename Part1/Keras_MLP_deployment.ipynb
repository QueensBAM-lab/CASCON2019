{
 "cells": [
  {
   "cell_type": "markdown",
   "metadata": {},
   "source": [
    "**1.Load the requirement for creating the model.**"
   ]
  },
  {
   "cell_type": "code",
   "execution_count": 1,
   "metadata": {},
   "outputs": [
    {
     "name": "stderr",
     "output_type": "stream",
     "text": [
      "Using TensorFlow backend.\n"
     ]
    }
   ],
   "source": [
    "#!pip install tensorflow\n",
    "#!pip install keras\n",
    "import tensorflow as tf\n",
    "import keras\n",
    "from keras.models import Sequential\n",
    "from keras.layers import Dense\n",
    "from sklearn.metrics import confusion_matrix\n",
    "import sys\n",
    "import numpy as np, math\n",
    "import pandas as pd"
   ]
  },
  {
   "cell_type": "markdown",
   "metadata": {},
   "source": [
    "**2. Insert the data into code as Pandas dataframe.**"
   ]
  },
  {
   "cell_type": "code",
   "execution_count": 2,
   "metadata": {},
   "outputs": [
    {
     "data": {
      "text/html": [
       "<div>\n",
       "<style scoped>\n",
       "    .dataframe tbody tr th:only-of-type {\n",
       "        vertical-align: middle;\n",
       "    }\n",
       "\n",
       "    .dataframe tbody tr th {\n",
       "        vertical-align: top;\n",
       "    }\n",
       "\n",
       "    .dataframe thead th {\n",
       "        text-align: right;\n",
       "    }\n",
       "</style>\n",
       "<table border=\"1\" class=\"dataframe\">\n",
       "  <thead>\n",
       "    <tr style=\"text-align: right;\">\n",
       "      <th></th>\n",
       "      <th>AvgX</th>\n",
       "      <th>AvgY</th>\n",
       "      <th>AvgZ</th>\n",
       "      <th>MedianX</th>\n",
       "      <th>MedianY</th>\n",
       "      <th>MedianZ</th>\n",
       "      <th>StdX</th>\n",
       "      <th>StdY</th>\n",
       "      <th>StdZ</th>\n",
       "      <th>SkewX</th>\n",
       "      <th>...</th>\n",
       "      <th>MeanTA</th>\n",
       "      <th>StdTA</th>\n",
       "      <th>SkewTA</th>\n",
       "      <th>KurtosisTA</th>\n",
       "      <th>MeanMag</th>\n",
       "      <th>StdMag</th>\n",
       "      <th>MinMag</th>\n",
       "      <th>MaxMag</th>\n",
       "      <th>DiffMinMaxMag</th>\n",
       "      <th>Label</th>\n",
       "    </tr>\n",
       "  </thead>\n",
       "  <tbody>\n",
       "    <tr>\n",
       "      <th>0</th>\n",
       "      <td>0.428841</td>\n",
       "      <td>0.948442</td>\n",
       "      <td>0.410905</td>\n",
       "      <td>0.430634</td>\n",
       "      <td>0.952755</td>\n",
       "      <td>0.413757</td>\n",
       "      <td>0.005826</td>\n",
       "      <td>0.004746</td>\n",
       "      <td>0.005716</td>\n",
       "      <td>0.013313</td>\n",
       "      <td>...</td>\n",
       "      <td>0.925010</td>\n",
       "      <td>0.005027</td>\n",
       "      <td>0.567399</td>\n",
       "      <td>0.051587</td>\n",
       "      <td>0.273077</td>\n",
       "      <td>0.005233</td>\n",
       "      <td>0.985105</td>\n",
       "      <td>0.024857</td>\n",
       "      <td>0.005990</td>\n",
       "      <td>0</td>\n",
       "    </tr>\n",
       "    <tr>\n",
       "      <th>1</th>\n",
       "      <td>0.524837</td>\n",
       "      <td>0.934668</td>\n",
       "      <td>0.457115</td>\n",
       "      <td>0.513224</td>\n",
       "      <td>0.952505</td>\n",
       "      <td>0.446025</td>\n",
       "      <td>0.130639</td>\n",
       "      <td>0.078951</td>\n",
       "      <td>0.086613</td>\n",
       "      <td>0.043425</td>\n",
       "      <td>...</td>\n",
       "      <td>0.940625</td>\n",
       "      <td>0.065808</td>\n",
       "      <td>0.355957</td>\n",
       "      <td>0.109859</td>\n",
       "      <td>0.212789</td>\n",
       "      <td>0.090918</td>\n",
       "      <td>0.757186</td>\n",
       "      <td>0.042609</td>\n",
       "      <td>0.087951</td>\n",
       "      <td>1</td>\n",
       "    </tr>\n",
       "    <tr>\n",
       "      <th>2</th>\n",
       "      <td>0.844126</td>\n",
       "      <td>0.509207</td>\n",
       "      <td>0.673963</td>\n",
       "      <td>0.830995</td>\n",
       "      <td>0.487599</td>\n",
       "      <td>0.608691</td>\n",
       "      <td>0.276552</td>\n",
       "      <td>0.826460</td>\n",
       "      <td>0.254368</td>\n",
       "      <td>0.052013</td>\n",
       "      <td>...</td>\n",
       "      <td>0.536324</td>\n",
       "      <td>0.779088</td>\n",
       "      <td>0.487466</td>\n",
       "      <td>0.006794</td>\n",
       "      <td>0.443777</td>\n",
       "      <td>0.481026</td>\n",
       "      <td>0.529465</td>\n",
       "      <td>0.612727</td>\n",
       "      <td>0.573070</td>\n",
       "      <td>1</td>\n",
       "    </tr>\n",
       "    <tr>\n",
       "      <th>3</th>\n",
       "      <td>0.878770</td>\n",
       "      <td>0.275381</td>\n",
       "      <td>0.695474</td>\n",
       "      <td>0.892626</td>\n",
       "      <td>0.332303</td>\n",
       "      <td>0.724622</td>\n",
       "      <td>0.144757</td>\n",
       "      <td>0.246744</td>\n",
       "      <td>0.095654</td>\n",
       "      <td>0.056502</td>\n",
       "      <td>...</td>\n",
       "      <td>0.346887</td>\n",
       "      <td>0.287497</td>\n",
       "      <td>0.424815</td>\n",
       "      <td>0.020677</td>\n",
       "      <td>0.247056</td>\n",
       "      <td>0.070410</td>\n",
       "      <td>0.734768</td>\n",
       "      <td>0.074681</td>\n",
       "      <td>0.118150</td>\n",
       "      <td>1</td>\n",
       "    </tr>\n",
       "    <tr>\n",
       "      <th>4</th>\n",
       "      <td>0.931578</td>\n",
       "      <td>0.426702</td>\n",
       "      <td>0.740917</td>\n",
       "      <td>0.924685</td>\n",
       "      <td>0.429348</td>\n",
       "      <td>0.754027</td>\n",
       "      <td>0.051384</td>\n",
       "      <td>0.048115</td>\n",
       "      <td>0.023049</td>\n",
       "      <td>0.184864</td>\n",
       "      <td>...</td>\n",
       "      <td>0.460294</td>\n",
       "      <td>0.049495</td>\n",
       "      <td>0.420042</td>\n",
       "      <td>0.110924</td>\n",
       "      <td>0.255132</td>\n",
       "      <td>0.048531</td>\n",
       "      <td>0.938186</td>\n",
       "      <td>0.089877</td>\n",
       "      <td>0.067658</td>\n",
       "      <td>0</td>\n",
       "    </tr>\n",
       "  </tbody>\n",
       "</table>\n",
       "<p>5 rows × 32 columns</p>\n",
       "</div>"
      ],
      "text/plain": [
       "       AvgX      AvgY      AvgZ   MedianX   MedianY   MedianZ      StdX  \\\n",
       "0  0.428841  0.948442  0.410905  0.430634  0.952755  0.413757  0.005826   \n",
       "1  0.524837  0.934668  0.457115  0.513224  0.952505  0.446025  0.130639   \n",
       "2  0.844126  0.509207  0.673963  0.830995  0.487599  0.608691  0.276552   \n",
       "3  0.878770  0.275381  0.695474  0.892626  0.332303  0.724622  0.144757   \n",
       "4  0.931578  0.426702  0.740917  0.924685  0.429348  0.754027  0.051384   \n",
       "\n",
       "       StdY      StdZ     SkewX  ...    MeanTA     StdTA    SkewTA  \\\n",
       "0  0.004746  0.005716  0.013313  ...  0.925010  0.005027  0.567399   \n",
       "1  0.078951  0.086613  0.043425  ...  0.940625  0.065808  0.355957   \n",
       "2  0.826460  0.254368  0.052013  ...  0.536324  0.779088  0.487466   \n",
       "3  0.246744  0.095654  0.056502  ...  0.346887  0.287497  0.424815   \n",
       "4  0.048115  0.023049  0.184864  ...  0.460294  0.049495  0.420042   \n",
       "\n",
       "   KurtosisTA   MeanMag    StdMag    MinMag    MaxMag  DiffMinMaxMag  Label  \n",
       "0    0.051587  0.273077  0.005233  0.985105  0.024857       0.005990      0  \n",
       "1    0.109859  0.212789  0.090918  0.757186  0.042609       0.087951      1  \n",
       "2    0.006794  0.443777  0.481026  0.529465  0.612727       0.573070      1  \n",
       "3    0.020677  0.247056  0.070410  0.734768  0.074681       0.118150      1  \n",
       "4    0.110924  0.255132  0.048531  0.938186  0.089877       0.067658      0  \n",
       "\n",
       "[5 rows x 32 columns]"
      ]
     },
     "execution_count": 2,
     "metadata": {},
     "output_type": "execute_result"
    }
   ],
   "source": [
    "\n",
    "import types\n",
    "import pandas as pd\n",
    "from botocore.client import Config\n",
    "import ibm_boto3\n",
    "\n",
    "def __iter__(self): return 0\n",
    "\n",
    "# @hidden_cell\n",
    "# The following code accesses a file in your IBM Cloud Object Storage. It includes your credentials.\n",
    "# The credentials will automatically be inserted when you insert the data into the code.\n",
    "client_df9b53d4353f4ac684f6ea7d76d4cf1d = ibm_boto3.client(service_name='s3',\n",
    "    ibm_api_key_id='',\n",
    "    ibm_auth_endpoint=\"\",\n",
    "    config=Config(signature_version='oauth'),\n",
    "    endpoint_url='')\n",
    "\n",
    "body = client_df9b53d4353f4ac684f6ea7d76d4cf1d.get_object(Bucket='fallclassification-donotdelete-pr-9niekv744xksho',Key='Label_test_lab.csv')['Body']\n",
    "# add missing __iter__ method, so pandas accepts body as file-like object\n",
    "if not hasattr(body, \"__iter__\"): body.__iter__ = types.MethodType( __iter__, body )\n",
    "\n",
    "df_data_1 = pd.read_csv(body)\n",
    "df_data_1.head()\n"
   ]
  },
  {
   "cell_type": "markdown",
   "metadata": {},
   "source": [
    "**3. Create, train, and evaluate the Keras Multi-layer Perceptron (MLP) model.**"
   ]
  },
  {
   "cell_type": "code",
   "execution_count": 4,
   "metadata": {},
   "outputs": [
    {
     "name": "stdout",
     "output_type": "stream",
     "text": [
      "Epoch 1/20\n",
      "7670/7670 [==============================] - 15s 2ms/step - loss: 0.1589 - acc: 0.9386\n",
      "Epoch 2/20\n",
      "7670/7670 [==============================] - 11s 1ms/step - loss: 0.0970 - acc: 0.9623\n",
      "Epoch 3/20\n",
      "7670/7670 [==============================] - 14s 2ms/step - loss: 0.0914 - acc: 0.9635\n",
      "Epoch 4/20\n",
      "7670/7670 [==============================] - 13s 2ms/step - loss: 0.0879 - acc: 0.9641\n",
      "Epoch 5/20\n",
      "7670/7670 [==============================] - 14s 2ms/step - loss: 0.0878 - acc: 0.9635\n",
      "Epoch 6/20\n",
      "7670/7670 [==============================] - 14s 2ms/step - loss: 0.0841 - acc: 0.9632\n",
      "Epoch 7/20\n",
      "7670/7670 [==============================] - 14s 2ms/step - loss: 0.0825 - acc: 0.9648\n",
      "Epoch 8/20\n",
      "7670/7670 [==============================] - 14s 2ms/step - loss: 0.0815 - acc: 0.9651\n",
      "Epoch 9/20\n",
      "7670/7670 [==============================] - 14s 2ms/step - loss: 0.0796 - acc: 0.9662\n",
      "Epoch 10/20\n",
      "7670/7670 [==============================] - 13s 2ms/step - loss: 0.0795 - acc: 0.9658\n",
      "Epoch 11/20\n",
      "7670/7670 [==============================] - 11s 1ms/step - loss: 0.0805 - acc: 0.9658\n",
      "Epoch 12/20\n",
      "7670/7670 [==============================] - 12s 2ms/step - loss: 0.0793 - acc: 0.9654\n",
      "Epoch 13/20\n",
      "7670/7670 [==============================] - 14s 2ms/step - loss: 0.0796 - acc: 0.9651\n",
      "Epoch 14/20\n",
      "7670/7670 [==============================] - 15s 2ms/step - loss: 0.0783 - acc: 0.9661\n",
      "Epoch 15/20\n",
      "7670/7670 [==============================] - 13s 2ms/step - loss: 0.0781 - acc: 0.9652\n",
      "Epoch 16/20\n",
      "7670/7670 [==============================] - 13s 2ms/step - loss: 0.0785 - acc: 0.9654\n",
      "Epoch 17/20\n",
      "7670/7670 [==============================] - 15s 2ms/step - loss: 0.0794 - acc: 0.9638\n",
      "Epoch 18/20\n",
      "7670/7670 [==============================] - 14s 2ms/step - loss: 0.0783 - acc: 0.9653\n",
      "Epoch 19/20\n",
      "7670/7670 [==============================] - 14s 2ms/step - loss: 0.0780 - acc: 0.9657\n",
      "Epoch 20/20\n",
      "7670/7670 [==============================] - 13s 2ms/step - loss: 0.0779 - acc: 0.9649\n",
      "7670/7670 [==============================] - 2s 292us/step\n",
      "\n",
      "acc: 96.73%\n"
     ]
    }
   ],
   "source": [
    "dataset = df_data_1.values\n",
    "# fix random seed for reproducibility\n",
    "np.random.seed(7)\n",
    "\n",
    "# split into input (X) and output (Y) variables\n",
    "xvalues = dataset[:,0:-1]\n",
    "yvalues = dataset[:,-1]\n",
    "#print(xvalues[0:5,:])\n",
    "\n",
    "# create model\n",
    "numCol = xvalues.shape[1]\n",
    "H1 = math.ceil(numCol/2)\n",
    "#H2 = math.ceil(H1/2)\n",
    "model = Sequential()\n",
    "model.add(Dense(numCol, input_dim = numCol, activation='relu'))\n",
    "model.add(Dense(H1, activation='relu'))\n",
    "#model.add(Dense(H2, activation='relu'))\n",
    "model.add(Dense(1, activation='sigmoid'))\n",
    "\n",
    "# Compile model\n",
    "model.compile(loss='binary_crossentropy', optimizer='adam', metrics=['accuracy'])\n",
    "\n",
    "# Fit the model\n",
    "model.fit(xvalues, yvalues, epochs=20, batch_size=10)\n",
    "\n",
    "# evaluate the model\n",
    "scores = model.evaluate(xvalues, yvalues)\n",
    "print(\"\\n%s: %.2f%%\" % (model.metrics_names[1], scores[1]*100))"
   ]
  },
  {
   "cell_type": "markdown",
   "metadata": {},
   "source": [
    "**4. Save the trained MLP model in .h5 format.**"
   ]
  },
  {
   "cell_type": "code",
   "execution_count": 5,
   "metadata": {},
   "outputs": [
    {
     "name": "stdout",
     "output_type": "stream",
     "text": [
      "Saved model in h5\n"
     ]
    }
   ],
   "source": [
    "from contextlib import suppress\n",
    "import os\n",
    "\n",
    "filename = 'model_oct19.h5'\n",
    "\n",
    "# Delete a duplicate file if exists.\n",
    "with suppress(OSError):\n",
    "    os.remove(filename)\n",
    "    \n",
    "model.save(filename)\n",
    "print(\"Saved model in h5\")"
   ]
  },
  {
   "cell_type": "markdown",
   "metadata": {},
   "source": [
    "**5. Compress the .h5 model as .tgz**"
   ]
  },
  {
   "cell_type": "code",
   "execution_count": 6,
   "metadata": {
    "scrolled": true
   },
   "outputs": [
    {
     "data": {
      "text/plain": [
       "0"
      ]
     },
     "execution_count": 6,
     "metadata": {},
     "output_type": "execute_result"
    }
   ],
   "source": [
    "#compress keras model\n",
    "tar_filename = filename + '.tgz'\n",
    "cmdstring = 'tar -zcvf ' + tar_filename + ' ' + filename\n",
    "os.system(cmdstring)"
   ]
  },
  {
   "cell_type": "markdown",
   "metadata": {},
   "source": [
    "**Showing the content of the local file system.**"
   ]
  },
  {
   "cell_type": "code",
   "execution_count": 7,
   "metadata": {},
   "outputs": [
    {
     "name": "stdout",
     "output_type": "stream",
     "text": [
      "model_oct19.h5\tmodel_oct19.h5.tgz\r\n"
     ]
    }
   ],
   "source": [
    "!ls"
   ]
  },
  {
   "cell_type": "markdown",
   "metadata": {},
   "source": [
    "**6. Store the model in IBM Watson machine learning repository**"
   ]
  },
  {
   "cell_type": "code",
   "execution_count": 11,
   "metadata": {},
   "outputs": [],
   "source": [
    "# use your Watson machine learning credentials here\n",
    "from watson_machine_learning_client import WatsonMachineLearningAPIClient\n",
    "client = WatsonMachineLearningAPIClient( {\n",
    "  \"apikey\": \"\",\n",
    "  \"iam_apikey_description\": \"\",\n",
    "  \"iam_apikey_name\": \"\",\n",
    "  \"iam_role_crn\": \"\",\n",
    "  \"iam_serviceid_crn\": \"\",\n",
    "  \"instance_id\": \"\",\n",
    "  \"url\": \"\"\n",
    "} )\n",
    "metadata = {\n",
    "    client.repository.ModelMetaNames.NAME: \"keras model oct19_1\",\n",
    "    client.repository.ModelMetaNames.FRAMEWORK_NAME: \"tensorflow\",\n",
    "    client.repository.ModelMetaNames.FRAMEWORK_VERSION: \"1.13\",\n",
    "    client.repository.ModelMetaNames.RUNTIME_NAME: 'python',\n",
    "    client.repository.ModelMetaNames.RUNTIME_VERSION: '3.6',\n",
    "    client.repository.ModelMetaNames.FRAMEWORK_LIBRARIES: [{'name':'keras', 'version': '2.2.4'}]\n",
    "}\n",
    "model_details = client.repository.store_model( tar_filename, meta_props=metadata, training_data = None  )\n",
    "#training_data=xvalues, training_target=yvalues\n"
   ]
  },
  {
   "cell_type": "markdown",
   "metadata": {},
   "source": [
    "**7. Deploy the stored model as a web service.**"
   ]
  },
  {
   "cell_type": "code",
   "execution_count": 12,
   "metadata": {},
   "outputs": [
    {
     "name": "stdout",
     "output_type": "stream",
     "text": [
      "\n",
      "\n",
      "#######################################################################################\n",
      "\n",
      "Synchronous deployment creation for uid: 'e5e26c42-daca-42bc-ba9e-68191d659da1' started\n",
      "\n",
      "#######################################################################################\n",
      "\n",
      "\n",
      "INITIALIZING\n",
      "DEPLOY_IN_PROGRESS\n",
      "DEPLOY_SUCCESS\n",
      "\n",
      "\n",
      "------------------------------------------------------------------------------------------------\n",
      "Successfully finished deployment creation, deployment_uid='a5853cd0-4b68-4166-965b-1586c0357f90'\n",
      "------------------------------------------------------------------------------------------------\n",
      "\n",
      "\n"
     ]
    }
   ],
   "source": [
    "model_id = client.repository.get_model_uid(model_details)\n",
    "model_deployment_details = client.deployments.create(model_id, name=\"keras model oct19_1\" )"
   ]
  },
  {
   "cell_type": "markdown",
   "metadata": {},
   "source": [
    "**Prepare a payload for scoring using the deployed model.**"
   ]
  },
  {
   "cell_type": "code",
   "execution_count": 14,
   "metadata": {},
   "outputs": [
    {
     "data": {
      "text/plain": [
       "(1, 31)"
      ]
     },
     "execution_count": 14,
     "metadata": {},
     "output_type": "execute_result"
    }
   ],
   "source": [
    "a = np.array([xvalues[0]])\n",
    "a.shape"
   ]
  },
  {
   "cell_type": "markdown",
   "metadata": {},
   "source": [
    "**8. Check the deployment for scoring using the prepared payload.**"
   ]
  },
  {
   "cell_type": "code",
   "execution_count": 15,
   "metadata": {},
   "outputs": [
    {
     "data": {
      "text/plain": [
       "{'fields': ['prediction', 'prediction_classes', 'probability'],\n",
       " 'values': [[[0.00010096141340909526], [0], [0.00010096141340909526]]]}"
      ]
     },
     "execution_count": 15,
     "metadata": {},
     "output_type": "execute_result"
    }
   ],
   "source": [
    "model_endpoint_url = client.deployments.get_scoring_url( model_deployment_details )\n",
    "\n",
    "payload = { \"values\" : a.tolist() }\n",
    "client.deployments.score( model_endpoint_url, payload )"
   ]
  }
 ],
 "metadata": {
  "kernelspec": {
   "display_name": "Python 3.6",
   "language": "python",
   "name": "python3"
  },
  "language_info": {
   "codemirror_mode": {
    "name": "ipython",
    "version": 3
   },
   "file_extension": ".py",
   "mimetype": "text/x-python",
   "name": "python",
   "nbconvert_exporter": "python",
   "pygments_lexer": "ipython3",
   "version": "3.6.8"
  }
 },
 "nbformat": 4,
 "nbformat_minor": 1
}

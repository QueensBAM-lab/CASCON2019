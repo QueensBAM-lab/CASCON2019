{
 "cells": [
  {
   "cell_type": "markdown",
   "metadata": {},
   "source": [
    "**1. Load the requirement for creating the model.**"
   ]
  },
  {
   "cell_type": "code",
   "execution_count": 1,
   "metadata": {},
   "outputs": [],
   "source": [
    "import numpy as np\n",
    "from sklearn.pipeline import Pipeline\n",
    "from sklearn.neural_network import MLPClassifier\n",
    "import math "
   ]
  },
  {
   "cell_type": "markdown",
   "metadata": {},
   "source": [
    "**2. Insert the data into code as Pandas dataframe.**"
   ]
  },
  {
   "cell_type": "code",
   "execution_count": 2,
   "metadata": {},
   "outputs": [
    {
     "data": {
      "text/html": [
       "<div>\n",
       "<style scoped>\n",
       "    .dataframe tbody tr th:only-of-type {\n",
       "        vertical-align: middle;\n",
       "    }\n",
       "\n",
       "    .dataframe tbody tr th {\n",
       "        vertical-align: top;\n",
       "    }\n",
       "\n",
       "    .dataframe thead th {\n",
       "        text-align: right;\n",
       "    }\n",
       "</style>\n",
       "<table border=\"1\" class=\"dataframe\">\n",
       "  <thead>\n",
       "    <tr style=\"text-align: right;\">\n",
       "      <th></th>\n",
       "      <th>AvgX</th>\n",
       "      <th>AvgY</th>\n",
       "      <th>AvgZ</th>\n",
       "      <th>MedianX</th>\n",
       "      <th>MedianY</th>\n",
       "      <th>MedianZ</th>\n",
       "      <th>StdX</th>\n",
       "      <th>StdY</th>\n",
       "      <th>StdZ</th>\n",
       "      <th>SkewX</th>\n",
       "      <th>...</th>\n",
       "      <th>MeanTA</th>\n",
       "      <th>StdTA</th>\n",
       "      <th>SkewTA</th>\n",
       "      <th>KurtosisTA</th>\n",
       "      <th>MeanMag</th>\n",
       "      <th>StdMag</th>\n",
       "      <th>MinMag</th>\n",
       "      <th>MaxMag</th>\n",
       "      <th>DiffMinMaxMag</th>\n",
       "      <th>Label</th>\n",
       "    </tr>\n",
       "  </thead>\n",
       "  <tbody>\n",
       "    <tr>\n",
       "      <th>0</th>\n",
       "      <td>0.428841</td>\n",
       "      <td>0.948442</td>\n",
       "      <td>0.410905</td>\n",
       "      <td>0.430634</td>\n",
       "      <td>0.952755</td>\n",
       "      <td>0.413757</td>\n",
       "      <td>0.005826</td>\n",
       "      <td>0.004746</td>\n",
       "      <td>0.005716</td>\n",
       "      <td>0.013313</td>\n",
       "      <td>...</td>\n",
       "      <td>0.925010</td>\n",
       "      <td>0.005027</td>\n",
       "      <td>0.567399</td>\n",
       "      <td>0.051587</td>\n",
       "      <td>0.273077</td>\n",
       "      <td>0.005233</td>\n",
       "      <td>0.985105</td>\n",
       "      <td>0.024857</td>\n",
       "      <td>0.005990</td>\n",
       "      <td>0</td>\n",
       "    </tr>\n",
       "    <tr>\n",
       "      <th>1</th>\n",
       "      <td>0.524837</td>\n",
       "      <td>0.934668</td>\n",
       "      <td>0.457115</td>\n",
       "      <td>0.513224</td>\n",
       "      <td>0.952505</td>\n",
       "      <td>0.446025</td>\n",
       "      <td>0.130639</td>\n",
       "      <td>0.078951</td>\n",
       "      <td>0.086613</td>\n",
       "      <td>0.043425</td>\n",
       "      <td>...</td>\n",
       "      <td>0.940625</td>\n",
       "      <td>0.065808</td>\n",
       "      <td>0.355957</td>\n",
       "      <td>0.109859</td>\n",
       "      <td>0.212789</td>\n",
       "      <td>0.090918</td>\n",
       "      <td>0.757186</td>\n",
       "      <td>0.042609</td>\n",
       "      <td>0.087951</td>\n",
       "      <td>1</td>\n",
       "    </tr>\n",
       "    <tr>\n",
       "      <th>2</th>\n",
       "      <td>0.844126</td>\n",
       "      <td>0.509207</td>\n",
       "      <td>0.673963</td>\n",
       "      <td>0.830995</td>\n",
       "      <td>0.487599</td>\n",
       "      <td>0.608691</td>\n",
       "      <td>0.276552</td>\n",
       "      <td>0.826460</td>\n",
       "      <td>0.254368</td>\n",
       "      <td>0.052013</td>\n",
       "      <td>...</td>\n",
       "      <td>0.536324</td>\n",
       "      <td>0.779088</td>\n",
       "      <td>0.487466</td>\n",
       "      <td>0.006794</td>\n",
       "      <td>0.443777</td>\n",
       "      <td>0.481026</td>\n",
       "      <td>0.529465</td>\n",
       "      <td>0.612727</td>\n",
       "      <td>0.573070</td>\n",
       "      <td>1</td>\n",
       "    </tr>\n",
       "    <tr>\n",
       "      <th>3</th>\n",
       "      <td>0.878770</td>\n",
       "      <td>0.275381</td>\n",
       "      <td>0.695474</td>\n",
       "      <td>0.892626</td>\n",
       "      <td>0.332303</td>\n",
       "      <td>0.724622</td>\n",
       "      <td>0.144757</td>\n",
       "      <td>0.246744</td>\n",
       "      <td>0.095654</td>\n",
       "      <td>0.056502</td>\n",
       "      <td>...</td>\n",
       "      <td>0.346887</td>\n",
       "      <td>0.287497</td>\n",
       "      <td>0.424815</td>\n",
       "      <td>0.020677</td>\n",
       "      <td>0.247056</td>\n",
       "      <td>0.070410</td>\n",
       "      <td>0.734768</td>\n",
       "      <td>0.074681</td>\n",
       "      <td>0.118150</td>\n",
       "      <td>1</td>\n",
       "    </tr>\n",
       "    <tr>\n",
       "      <th>4</th>\n",
       "      <td>0.931578</td>\n",
       "      <td>0.426702</td>\n",
       "      <td>0.740917</td>\n",
       "      <td>0.924685</td>\n",
       "      <td>0.429348</td>\n",
       "      <td>0.754027</td>\n",
       "      <td>0.051384</td>\n",
       "      <td>0.048115</td>\n",
       "      <td>0.023049</td>\n",
       "      <td>0.184864</td>\n",
       "      <td>...</td>\n",
       "      <td>0.460294</td>\n",
       "      <td>0.049495</td>\n",
       "      <td>0.420042</td>\n",
       "      <td>0.110924</td>\n",
       "      <td>0.255132</td>\n",
       "      <td>0.048531</td>\n",
       "      <td>0.938186</td>\n",
       "      <td>0.089877</td>\n",
       "      <td>0.067658</td>\n",
       "      <td>0</td>\n",
       "    </tr>\n",
       "  </tbody>\n",
       "</table>\n",
       "<p>5 rows × 32 columns</p>\n",
       "</div>"
      ],
      "text/plain": [
       "       AvgX      AvgY      AvgZ   MedianX   MedianY   MedianZ      StdX  \\\n",
       "0  0.428841  0.948442  0.410905  0.430634  0.952755  0.413757  0.005826   \n",
       "1  0.524837  0.934668  0.457115  0.513224  0.952505  0.446025  0.130639   \n",
       "2  0.844126  0.509207  0.673963  0.830995  0.487599  0.608691  0.276552   \n",
       "3  0.878770  0.275381  0.695474  0.892626  0.332303  0.724622  0.144757   \n",
       "4  0.931578  0.426702  0.740917  0.924685  0.429348  0.754027  0.051384   \n",
       "\n",
       "       StdY      StdZ     SkewX  ...    MeanTA     StdTA    SkewTA  \\\n",
       "0  0.004746  0.005716  0.013313  ...  0.925010  0.005027  0.567399   \n",
       "1  0.078951  0.086613  0.043425  ...  0.940625  0.065808  0.355957   \n",
       "2  0.826460  0.254368  0.052013  ...  0.536324  0.779088  0.487466   \n",
       "3  0.246744  0.095654  0.056502  ...  0.346887  0.287497  0.424815   \n",
       "4  0.048115  0.023049  0.184864  ...  0.460294  0.049495  0.420042   \n",
       "\n",
       "   KurtosisTA   MeanMag    StdMag    MinMag    MaxMag  DiffMinMaxMag  Label  \n",
       "0    0.051587  0.273077  0.005233  0.985105  0.024857       0.005990      0  \n",
       "1    0.109859  0.212789  0.090918  0.757186  0.042609       0.087951      1  \n",
       "2    0.006794  0.443777  0.481026  0.529465  0.612727       0.573070      1  \n",
       "3    0.020677  0.247056  0.070410  0.734768  0.074681       0.118150      1  \n",
       "4    0.110924  0.255132  0.048531  0.938186  0.089877       0.067658      0  \n",
       "\n",
       "[5 rows x 32 columns]"
      ]
     },
     "execution_count": 2,
     "metadata": {},
     "output_type": "execute_result"
    }
   ],
   "source": [
    "\n",
    "import types\n",
    "import pandas as pd\n",
    "from botocore.client import Config\n",
    "import ibm_boto3\n",
    "\n",
    "def __iter__(self): return 0\n",
    "\n",
    "# @hidden_cell\n",
    "# The following code accesses a file in your IBM Cloud Object Storage. It includes your credentials.\n",
    "# The credentials will automatically be inserted when you insert the data into the code.\n",
    "client_df9b53d4353f4ac684f6ea7d76d4cf1d = ibm_boto3.client(service_name='s3',\n",
    "    ibm_api_key_id='',\n",
    "    ibm_auth_endpoint=\"\",\n",
    "    config=Config(signature_version='oauth'),\n",
    "    endpoint_url='')\n",
    "\n",
    "body = client_df9b53d4353f4ac684f6ea7d76d4cf1d.get_object(Bucket='fallclassification-donotdelete-pr-9niekv744xksho',Key='Label_test_lab.csv')['Body']\n",
    "# add missing __iter__ method, so pandas accepts body as file-like object\n",
    "if not hasattr(body, \"__iter__\"): body.__iter__ = types.MethodType( __iter__, body )\n",
    "\n",
    "df_data_1 = pd.read_csv(body)\n",
    "df_data_1.head()\n"
   ]
  },
  {
   "cell_type": "markdown",
   "metadata": {},
   "source": [
    "**3. Prepare the training data and number of nodes in the hidden layers.**"
   ]
  },
  {
   "cell_type": "code",
   "execution_count": 3,
   "metadata": {},
   "outputs": [],
   "source": [
    "dataset = df_data_1.values\n",
    "# fix random seed for reproducibility\n",
    "np.random.seed(7)\n",
    "\n",
    "# split into input (X) and output (Y) variables\n",
    "xvalues = dataset[:,0:-1]\n",
    "yvalues = dataset[:,-1]\n",
    "#print(xvalues[0:5,:])\n",
    "\n",
    "# create model\n",
    "numCol = xvalues.shape[1]\n",
    "H1 = math.ceil(numCol/2)\n",
    "H2 = math.ceil(H1/2)"
   ]
  },
  {
   "cell_type": "markdown",
   "metadata": {},
   "source": [
    "**4. Create the pipeline and train the MLP classifier.**"
   ]
  },
  {
   "cell_type": "code",
   "execution_count": 4,
   "metadata": {},
   "outputs": [
    {
     "name": "stdout",
     "output_type": "stream",
     "text": [
      "Iteration 1, loss = 0.63493499\n",
      "Iteration 2, loss = 0.45806061\n",
      "Iteration 3, loss = 0.32705424\n",
      "Iteration 4, loss = 0.22493113\n",
      "Iteration 5, loss = 0.16320961\n",
      "Iteration 6, loss = 0.13212267\n",
      "Iteration 7, loss = 0.11667650\n",
      "Iteration 8, loss = 0.10901154\n",
      "Iteration 9, loss = 0.10416789\n",
      "Iteration 10, loss = 0.10207678\n",
      "Iteration 11, loss = 0.09944408\n",
      "Iteration 12, loss = 0.09856831\n",
      "Iteration 13, loss = 0.09668320\n",
      "Iteration 14, loss = 0.09844384\n",
      "Iteration 15, loss = 0.09546228\n",
      "Iteration 16, loss = 0.09546719\n",
      "Iteration 17, loss = 0.09524898\n",
      "Iteration 18, loss = 0.09577605\n",
      "Iteration 19, loss = 0.09344728\n",
      "Iteration 20, loss = 0.09259765\n",
      "Iteration 21, loss = 0.09187532\n",
      "Iteration 22, loss = 0.09089247\n",
      "Iteration 23, loss = 0.09072543\n",
      "Iteration 24, loss = 0.08993407\n",
      "Iteration 25, loss = 0.08981758\n",
      "Iteration 26, loss = 0.08988774\n",
      "Iteration 27, loss = 0.08957104\n",
      "Iteration 28, loss = 0.08835984\n",
      "Iteration 29, loss = 0.08821623\n",
      "Iteration 30, loss = 0.08786785\n",
      "Iteration 31, loss = 0.08830989\n",
      "Iteration 32, loss = 0.08798126\n",
      "Iteration 33, loss = 0.08724831\n",
      "Iteration 34, loss = 0.08759541\n",
      "Iteration 35, loss = 0.08640714\n",
      "Iteration 36, loss = 0.08621664\n",
      "Iteration 37, loss = 0.08611810\n",
      "Iteration 38, loss = 0.08626190\n",
      "Iteration 39, loss = 0.08583125\n",
      "Iteration 40, loss = 0.08578181\n",
      "Iteration 41, loss = 0.08536716\n",
      "Iteration 42, loss = 0.08565320\n",
      "Iteration 43, loss = 0.08504545\n",
      "Iteration 44, loss = 0.08467285\n",
      "Iteration 45, loss = 0.08502439\n",
      "Iteration 46, loss = 0.08469045\n",
      "Iteration 47, loss = 0.08452769\n",
      "Iteration 48, loss = 0.08403461\n",
      "Iteration 49, loss = 0.08436524\n",
      "Iteration 50, loss = 0.08417830\n",
      "Iteration 51, loss = 0.08381985\n",
      "Iteration 52, loss = 0.08335068\n",
      "Iteration 53, loss = 0.08318620\n",
      "Iteration 54, loss = 0.08314390\n",
      "Iteration 55, loss = 0.08299768\n",
      "Iteration 56, loss = 0.08262023\n",
      "Iteration 57, loss = 0.08289279\n",
      "Iteration 58, loss = 0.08281262\n",
      "Iteration 59, loss = 0.08242804\n",
      "Iteration 60, loss = 0.08220663\n",
      "Iteration 61, loss = 0.08202976\n",
      "Iteration 62, loss = 0.08162983\n",
      "Iteration 63, loss = 0.08165045\n",
      "Iteration 64, loss = 0.08178223\n",
      "Iteration 65, loss = 0.08175852\n",
      "Iteration 66, loss = 0.08151427\n",
      "Iteration 67, loss = 0.08131203\n",
      "Iteration 68, loss = 0.08111505\n",
      "Iteration 69, loss = 0.08103789\n",
      "Iteration 70, loss = 0.08060237\n",
      "Iteration 71, loss = 0.08047117\n",
      "Iteration 72, loss = 0.08063363\n",
      "Iteration 73, loss = 0.08108184\n",
      "Iteration 74, loss = 0.08079151\n",
      "Iteration 75, loss = 0.08065511\n",
      "Iteration 76, loss = 0.08092592\n",
      "Iteration 77, loss = 0.08121708\n",
      "Iteration 78, loss = 0.07998976\n",
      "Iteration 79, loss = 0.07986322\n",
      "Iteration 80, loss = 0.08000484\n",
      "Iteration 81, loss = 0.07992035\n",
      "Iteration 82, loss = 0.07937850\n",
      "Iteration 83, loss = 0.07920556\n",
      "Iteration 84, loss = 0.07901606\n",
      "Iteration 85, loss = 0.07867771\n",
      "Iteration 86, loss = 0.07851372\n",
      "Iteration 87, loss = 0.07912790\n",
      "Iteration 88, loss = 0.07828138\n",
      "Iteration 89, loss = 0.07826706\n",
      "Iteration 90, loss = 0.07827722\n",
      "Iteration 91, loss = 0.07788514\n",
      "Iteration 92, loss = 0.07814682\n",
      "Iteration 93, loss = 0.07814730\n",
      "Iteration 94, loss = 0.07761237\n",
      "Iteration 95, loss = 0.07882968\n",
      "Iteration 96, loss = 0.07758937\n",
      "Iteration 97, loss = 0.07770093\n",
      "Iteration 98, loss = 0.07764948\n",
      "Iteration 99, loss = 0.07711579\n",
      "Iteration 100, loss = 0.07778130\n",
      "Iteration 101, loss = 0.07730225\n",
      "Iteration 102, loss = 0.07714809\n",
      "Iteration 103, loss = 0.07741337\n",
      "Iteration 104, loss = 0.07675079\n",
      "Iteration 105, loss = 0.07745730\n",
      "Iteration 106, loss = 0.07658368\n",
      "Iteration 107, loss = 0.07688910\n",
      "Iteration 108, loss = 0.07726150\n",
      "Iteration 109, loss = 0.07659776\n",
      "Iteration 110, loss = 0.07776482\n",
      "Iteration 111, loss = 0.07698565\n",
      "Iteration 112, loss = 0.07643707\n",
      "Iteration 113, loss = 0.07650265\n",
      "Iteration 114, loss = 0.07640642\n",
      "Iteration 115, loss = 0.07693054\n",
      "Iteration 116, loss = 0.07620420\n",
      "Iteration 117, loss = 0.07622485\n",
      "Iteration 118, loss = 0.07683501\n",
      "Iteration 119, loss = 0.07583988\n",
      "Iteration 120, loss = 0.07574868\n",
      "Iteration 121, loss = 0.07571835\n",
      "Iteration 122, loss = 0.07590921\n",
      "Iteration 123, loss = 0.07586065\n",
      "Iteration 124, loss = 0.07584219\n",
      "Iteration 125, loss = 0.07623582\n",
      "Iteration 126, loss = 0.07569497\n",
      "Iteration 127, loss = 0.07609825\n",
      "Iteration 128, loss = 0.07584557\n",
      "Iteration 129, loss = 0.07545503\n",
      "Iteration 130, loss = 0.07671306\n",
      "Iteration 131, loss = 0.07567739\n",
      "Iteration 132, loss = 0.07538940\n",
      "Iteration 133, loss = 0.07501261\n",
      "Iteration 134, loss = 0.07527676\n",
      "Iteration 135, loss = 0.07516581\n",
      "Iteration 136, loss = 0.07523421\n",
      "Iteration 137, loss = 0.07509221\n",
      "Iteration 138, loss = 0.07550617\n",
      "Iteration 139, loss = 0.07493838\n",
      "Iteration 140, loss = 0.07479355\n",
      "Iteration 141, loss = 0.07620904\n",
      "Iteration 142, loss = 0.07474338\n",
      "Iteration 143, loss = 0.07566878\n",
      "Iteration 144, loss = 0.07492411\n",
      "Iteration 145, loss = 0.07535580\n",
      "Iteration 146, loss = 0.07491907\n",
      "Iteration 147, loss = 0.07512722\n",
      "Iteration 148, loss = 0.07450404\n",
      "Iteration 149, loss = 0.07461449\n",
      "Iteration 150, loss = 0.07491437\n",
      "Iteration 151, loss = 0.07450974\n",
      "Iteration 152, loss = 0.07446165\n",
      "Iteration 153, loss = 0.07460578\n",
      "Iteration 154, loss = 0.07426008\n",
      "Iteration 155, loss = 0.07438661\n",
      "Iteration 156, loss = 0.07406024\n",
      "Iteration 157, loss = 0.07504821\n",
      "Iteration 158, loss = 0.07399783\n",
      "Iteration 159, loss = 0.07538560\n",
      "Iteration 160, loss = 0.07429773\n",
      "Iteration 161, loss = 0.07425251\n",
      "Iteration 162, loss = 0.07448285\n",
      "Iteration 163, loss = 0.07425021\n",
      "Iteration 164, loss = 0.07399140\n",
      "Iteration 165, loss = 0.07473740\n",
      "Iteration 166, loss = 0.07370274\n",
      "Iteration 167, loss = 0.07407627\n",
      "Iteration 168, loss = 0.07538793\n",
      "Iteration 169, loss = 0.07486764\n",
      "Iteration 170, loss = 0.07400777\n",
      "Iteration 171, loss = 0.07365815\n",
      "Iteration 172, loss = 0.07394068\n",
      "Iteration 173, loss = 0.07350718\n",
      "Iteration 174, loss = 0.07371581\n",
      "Iteration 175, loss = 0.07404029\n",
      "Iteration 176, loss = 0.07393720\n",
      "Iteration 177, loss = 0.07404186\n",
      "Iteration 178, loss = 0.07416826\n",
      "Iteration 179, loss = 0.07396265\n",
      "Iteration 180, loss = 0.07368251\n",
      "Iteration 181, loss = 0.07504408\n",
      "Iteration 182, loss = 0.07386975\n",
      "Iteration 183, loss = 0.07364886\n",
      "Iteration 184, loss = 0.07450290\n",
      "Training loss did not improve more than tol=0.000100 for 10 consecutive epochs. Stopping.\n"
     ]
    },
    {
     "data": {
      "text/plain": [
       "Pipeline(memory=None,\n",
       "     steps=[('classifier', MLPClassifier(activation='relu', alpha=0.0001, batch_size='auto', beta_1=0.9,\n",
       "       beta_2=0.999, early_stopping=False, epsilon=1e-08,\n",
       "       hidden_layer_sizes=(16, 8), learning_rate='constant',\n",
       "       learning_rate_init=0.001, max_iter=200, momentum=0.9,\n",
       "       n_iter_no_change=10, nesterovs_momentum=True, power_t=0.5,\n",
       "       random_state=1, shuffle=True, solver='adam', tol=0.0001,\n",
       "       validation_fraction=0.1, verbose=True, warm_start=False))])"
      ]
     },
     "execution_count": 4,
     "metadata": {},
     "output_type": "execute_result"
    }
   ],
   "source": [
    "pipeline = Pipeline( steps = [ ( \"classifier\", MLPClassifier(activation='relu', solver='adam', hidden_layer_sizes=(H1, H2), random_state=1, verbose=True) ) ] )\n",
    "pipeline.fit(xvalues,yvalues)"
   ]
  },
  {
   "cell_type": "markdown",
   "metadata": {},
   "source": [
    "**Predict one of the training data using the trained pipeline.**"
   ]
  },
  {
   "cell_type": "code",
   "execution_count": 5,
   "metadata": {},
   "outputs": [
    {
     "data": {
      "text/plain": [
       "array([1.])"
      ]
     },
     "execution_count": 5,
     "metadata": {},
     "output_type": "execute_result"
    }
   ],
   "source": [
    "pipeline.predict( [xvalues[3]] )"
   ]
  },
  {
   "cell_type": "markdown",
   "metadata": {},
   "source": [
    "**5. Store the trained pipeline in IBM Watson machine learning repository.**"
   ]
  },
  {
   "cell_type": "code",
   "execution_count": 6,
   "metadata": {},
   "outputs": [],
   "source": [
    "# use your Watson machine learning credentials here\n",
    "from watson_machine_learning_client import WatsonMachineLearningAPIClient\n",
    "client = WatsonMachineLearningAPIClient( {\n",
    "  \"apikey\": \"\",\n",
    "  \"iam_apikey_description\": \"\",\n",
    "  \"iam_apikey_name\": \"\",\n",
    "  \"iam_role_crn\": \"\",\n",
    "  \"iam_serviceid_crn\": \"\",\n",
    "  \"instance_id\": \"\",\n",
    "  \"url\": \"\"\n",
    "} )\n",
    "\n",
    "model_details = client.repository.store_model( pipeline, \"scikit-learn model_pipeline\" )"
   ]
  },
  {
   "cell_type": "markdown",
   "metadata": {},
   "source": [
    "**6. Deploy the stored model as a web service.**"
   ]
  },
  {
   "cell_type": "code",
   "execution_count": 7,
   "metadata": {},
   "outputs": [
    {
     "name": "stdout",
     "output_type": "stream",
     "text": [
      "\n",
      "\n",
      "#######################################################################################\n",
      "\n",
      "Synchronous deployment creation for uid: 'b8d49d75-33a5-4c68-818f-ea1babd7669d' started\n",
      "\n",
      "#######################################################################################\n",
      "\n",
      "\n",
      "INITIALIZING\n",
      "DEPLOY_SUCCESS\n",
      "\n",
      "\n",
      "------------------------------------------------------------------------------------------------\n",
      "Successfully finished deployment creation, deployment_uid='ac129d19-cf66-422b-920a-e783fb3a7cfe'\n",
      "------------------------------------------------------------------------------------------------\n",
      "\n",
      "\n"
     ]
    }
   ],
   "source": [
    "model_id = model_details[\"metadata\"][\"guid\"]\n",
    "deployment_details = client.deployments.create( artifact_uid=model_id, name=\"scikit-learn deployment\" )"
   ]
  },
  {
   "cell_type": "markdown",
   "metadata": {},
   "source": [
    "**Prepare a payload for scoring using the model deployment.**"
   ]
  },
  {
   "cell_type": "code",
   "execution_count": 8,
   "metadata": {},
   "outputs": [],
   "source": [
    "a = np.array([xvalues[0]])\n",
    "b = a.tolist()"
   ]
  },
  {
   "cell_type": "markdown",
   "metadata": {},
   "source": [
    "**7. Check the deployment for scoring using the prepared payload.**"
   ]
  },
  {
   "cell_type": "code",
   "execution_count": 9,
   "metadata": {},
   "outputs": [
    {
     "data": {
      "text/plain": [
       "{'fields': ['prediction', 'probability'],\n",
       " 'values': [[0.0, [0.9996047912342276, 0.0003952087657723774]]]}"
      ]
     },
     "execution_count": 9,
     "metadata": {},
     "output_type": "execute_result"
    }
   ],
   "source": [
    "model_endpoint_url = client.deployments.get_scoring_url( deployment_details )\n",
    "client.deployments.score( model_endpoint_url, { \"values\" : b } )"
   ]
  },
  {
   "cell_type": "markdown",
   "metadata": {},
   "source": [
    "**8. Predict using the model loaded from the stored model**"
   ]
  },
  {
   "cell_type": "code",
   "execution_count": 10,
   "metadata": {},
   "outputs": [
    {
     "data": {
      "text/plain": [
       "array([0.])"
      ]
     },
     "execution_count": 10,
     "metadata": {},
     "output_type": "execute_result"
    }
   ],
   "source": [
    "model = client.repository.load(model_id)\n",
    "model.predict([xvalues[0]])"
   ]
  }
 ],
 "metadata": {
  "kernelspec": {
   "display_name": "Python 3.6",
   "language": "python",
   "name": "python3"
  },
  "language_info": {
   "codemirror_mode": {
    "name": "ipython",
    "version": 3
   },
   "file_extension": ".py",
   "mimetype": "text/x-python",
   "name": "python",
   "nbconvert_exporter": "python",
   "pygments_lexer": "ipython3",
   "version": "3.6.8"
  }
 },
 "nbformat": 4,
 "nbformat_minor": 1
}
